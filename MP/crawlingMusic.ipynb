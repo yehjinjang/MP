{
 "cells": [
  {
   "cell_type": "code",
   "execution_count": 1,
   "metadata": {},
   "outputs": [],
   "source": [
    "import requests \n",
    "from bs4 import BeautifulSoup\n",
    "import pandas as pd\n",
    "import matplotlib.pyplot as plt\n",
    "import seaborn as sns\n",
    "\n",
    "import matplotlib as mpl \n",
    "mpl.rcParams['axes.unicode_minus'] = False\n",
    "plt.rc('font',family='Malgun Gothic')\n",
    "\n",
    "import warnings\n",
    "warnings.filterwarnings('ignore',category=FutureWarning)"
   ]
  },
  {
   "cell_type": "code",
   "execution_count": 2,
   "metadata": {},
   "outputs": [],
   "source": [
    "# crawling\n",
    "def crawl_bugs():\n",
    "    url = \"https://music.bugs.co.kr/chart\"\n",
    "    response = requests.get(url)\n",
    "    soup = BeautifulSoup(response.text, 'html.parser')\n",
    "\n",
    "    data = []\n",
    "    songs = soup.select('table.byChart tbody tr')\n",
    "    for idx, song in enumerate(songs, start=1):\n",
    "        # rank_elem = song.select_one('div.ranking')\n",
    "        title_elem = song.select_one('p.title')\n",
    "        artist_elem = song.select_one('p.artist a')\n",
    "        \n",
    "        if title_elem and artist_elem:\n",
    "            rank = str(idx)  # 순서대로 순위 매기기\n",
    "            title = title_elem.get_text(strip=True)\n",
    "            artist = artist_elem.get_text(strip=True)\n",
    "            data.append(['벅스', rank, title, artist])\n",
    "\n",
    "    return data\n",
    "\n",
    "def crawl_genie():\n",
    "    url = \"https://www.genie.co.kr/chart/top200\"\n",
    "    response = requests.get(url, headers={'User-Agent': 'Mozilla/5.0'})\n",
    "    soup = BeautifulSoup(response.text, 'html.parser')\n",
    "\n",
    "    data = []\n",
    "    songs = soup.select('table.list-wrap tbody tr')\n",
    "    for idx, song in enumerate(songs, start=1):\n",
    "        # rank_elem = song.select_one('td.number')\n",
    "        title_elem = song.select_one('a.title.ellipsis')\n",
    "        artist_elem = song.select_one('a.artist.ellipsis')\n",
    "        \n",
    "        if title_elem and artist_elem:\n",
    "            rank = str(idx) \n",
    "            title = title_elem.get_text(strip=True)\n",
    "            artist = artist_elem.get_text(strip=True)\n",
    "            data.append(['지니', rank, title, artist])\n",
    "\n",
    "    return data\n",
    "def crawl_melon():\n",
    "    url = \"https://www.melon.com/chart/index.htm\"\n",
    "    headers = {\n",
    "        \"User-Agent\": \"Mozilla/5.0\",\n",
    "        \"Referer\": \"https://www.melon.com/\"\n",
    "    }\n",
    "    response = requests.get(url, headers=headers)\n",
    "    soup = BeautifulSoup(response.text, 'html.parser')\n",
    "\n",
    "    data = []\n",
    "    songs = soup.select('tr[data-song-no]')\n",
    "    for song in songs:\n",
    "        rank_elem = song.select_one('span.rank')\n",
    "        title_elem = song.select_one('div.ellipsis.rank01 span a')\n",
    "        artist_elem = song.select_one('div.ellipsis.rank02 span a')\n",
    "        \n",
    "        if rank_elem and title_elem and artist_elem:\n",
    "            rank = rank_elem.get_text(strip=True)\n",
    "            title = title_elem.get_text(strip=True)\n",
    "            artist = artist_elem.get_text(strip=True)\n",
    "            data.append(['멜론', rank, title, artist])\n",
    "\n",
    "    return data\n",
    "\n",
    "bugs_data = crawl_bugs()\n",
    "genie_data = crawl_genie()\n",
    "melon_data = crawl_melon()"
   ]
  },
  {
   "cell_type": "code",
   "execution_count": 3,
   "metadata": {},
   "outputs": [],
   "source": [
    "# check each crawled datas"
   ]
  },
  {
   "cell_type": "code",
   "execution_count": 4,
   "metadata": {},
   "outputs": [
    {
     "data": {
      "text/html": [
       "<div>\n",
       "<style scoped>\n",
       "    .dataframe tbody tr th:only-of-type {\n",
       "        vertical-align: middle;\n",
       "    }\n",
       "\n",
       "    .dataframe tbody tr th {\n",
       "        vertical-align: top;\n",
       "    }\n",
       "\n",
       "    .dataframe thead th {\n",
       "        text-align: right;\n",
       "    }\n",
       "</style>\n",
       "<table border=\"1\" class=\"dataframe\">\n",
       "  <thead>\n",
       "    <tr style=\"text-align: right;\">\n",
       "      <th></th>\n",
       "      <th>서비스</th>\n",
       "      <th>순위</th>\n",
       "      <th>타이틀</th>\n",
       "      <th>가수</th>\n",
       "    </tr>\n",
       "  </thead>\n",
       "  <tbody>\n",
       "    <tr>\n",
       "      <th>0</th>\n",
       "      <td>벅스</td>\n",
       "      <td>1</td>\n",
       "      <td>REBEL HEART</td>\n",
       "      <td>IVE (아이브)</td>\n",
       "    </tr>\n",
       "    <tr>\n",
       "      <th>1</th>\n",
       "      <td>벅스</td>\n",
       "      <td>2</td>\n",
       "      <td>Whiplash</td>\n",
       "      <td>aespa</td>\n",
       "    </tr>\n",
       "    <tr>\n",
       "      <th>2</th>\n",
       "      <td>벅스</td>\n",
       "      <td>3</td>\n",
       "      <td>toxic till the end</td>\n",
       "      <td>로제(ROSÉ)</td>\n",
       "    </tr>\n",
       "    <tr>\n",
       "      <th>3</th>\n",
       "      <td>벅스</td>\n",
       "      <td>4</td>\n",
       "      <td>HOME SWEET HOME (feat. 태양, 대성)</td>\n",
       "      <td>G-DRAGON</td>\n",
       "    </tr>\n",
       "    <tr>\n",
       "      <th>4</th>\n",
       "      <td>벅스</td>\n",
       "      <td>5</td>\n",
       "      <td>APT.</td>\n",
       "      <td>로제(ROSÉ)</td>\n",
       "    </tr>\n",
       "    <tr>\n",
       "      <th>5</th>\n",
       "      <td>벅스</td>\n",
       "      <td>6</td>\n",
       "      <td>Drowning</td>\n",
       "      <td>WOODZ</td>\n",
       "    </tr>\n",
       "    <tr>\n",
       "      <th>6</th>\n",
       "      <td>벅스</td>\n",
       "      <td>7</td>\n",
       "      <td>나는 반딧불</td>\n",
       "      <td>황가람</td>\n",
       "    </tr>\n",
       "    <tr>\n",
       "      <th>7</th>\n",
       "      <td>벅스</td>\n",
       "      <td>8</td>\n",
       "      <td>너와의 모든 지금</td>\n",
       "      <td>재쓰비 (JAESSBEE)</td>\n",
       "    </tr>\n",
       "    <tr>\n",
       "      <th>8</th>\n",
       "      <td>벅스</td>\n",
       "      <td>9</td>\n",
       "      <td>HAPPY</td>\n",
       "      <td>DAY6 (데이식스)</td>\n",
       "    </tr>\n",
       "    <tr>\n",
       "      <th>9</th>\n",
       "      <td>벅스</td>\n",
       "      <td>10</td>\n",
       "      <td>DRIP</td>\n",
       "      <td>BABYMONSTER</td>\n",
       "    </tr>\n",
       "  </tbody>\n",
       "</table>\n",
       "</div>"
      ],
      "text/plain": [
       "  서비스  순위                             타이틀              가수\n",
       "0  벅스   1                     REBEL HEART       IVE (아이브)\n",
       "1  벅스   2                        Whiplash           aespa\n",
       "2  벅스   3              toxic till the end        로제(ROSÉ)\n",
       "3  벅스   4  HOME SWEET HOME (feat. 태양, 대성)        G-DRAGON\n",
       "4  벅스   5                            APT.        로제(ROSÉ)\n",
       "5  벅스   6                        Drowning           WOODZ\n",
       "6  벅스   7                          나는 반딧불             황가람\n",
       "7  벅스   8                       너와의 모든 지금  재쓰비 (JAESSBEE)\n",
       "8  벅스   9                           HAPPY     DAY6 (데이식스)\n",
       "9  벅스  10                            DRIP     BABYMONSTER"
      ]
     },
     "execution_count": 4,
     "metadata": {},
     "output_type": "execute_result"
    }
   ],
   "source": [
    "bugs_data = pd.DataFrame(bugs_data, columns=['서비스', '순위', '타이틀', '가수'])\n",
    "bugs_data.head(10)"
   ]
  },
  {
   "cell_type": "code",
   "execution_count": 5,
   "metadata": {},
   "outputs": [
    {
     "data": {
      "text/html": [
       "<div>\n",
       "<style scoped>\n",
       "    .dataframe tbody tr th:only-of-type {\n",
       "        vertical-align: middle;\n",
       "    }\n",
       "\n",
       "    .dataframe tbody tr th {\n",
       "        vertical-align: top;\n",
       "    }\n",
       "\n",
       "    .dataframe thead th {\n",
       "        text-align: right;\n",
       "    }\n",
       "</style>\n",
       "<table border=\"1\" class=\"dataframe\">\n",
       "  <thead>\n",
       "    <tr style=\"text-align: right;\">\n",
       "      <th></th>\n",
       "      <th>서비스</th>\n",
       "      <th>순위</th>\n",
       "      <th>타이틀</th>\n",
       "      <th>가수</th>\n",
       "    </tr>\n",
       "  </thead>\n",
       "  <tbody>\n",
       "    <tr>\n",
       "      <th>0</th>\n",
       "      <td>지니</td>\n",
       "      <td>1</td>\n",
       "      <td>HOME SWEET HOME (Feat. 태양 &amp; 대성)</td>\n",
       "      <td>G-DRAGON</td>\n",
       "    </tr>\n",
       "    <tr>\n",
       "      <th>1</th>\n",
       "      <td>지니</td>\n",
       "      <td>2</td>\n",
       "      <td>Whiplash</td>\n",
       "      <td>aespa</td>\n",
       "    </tr>\n",
       "    <tr>\n",
       "      <th>2</th>\n",
       "      <td>지니</td>\n",
       "      <td>3</td>\n",
       "      <td>APT.</td>\n",
       "      <td>로제 (ROSÉ) &amp; Bruno Mars</td>\n",
       "    </tr>\n",
       "    <tr>\n",
       "      <th>3</th>\n",
       "      <td>지니</td>\n",
       "      <td>4</td>\n",
       "      <td>REBEL HEART</td>\n",
       "      <td>IVE (아이브)</td>\n",
       "    </tr>\n",
       "    <tr>\n",
       "      <th>4</th>\n",
       "      <td>지니</td>\n",
       "      <td>5</td>\n",
       "      <td>나는 반딧불</td>\n",
       "      <td>황가람</td>\n",
       "    </tr>\n",
       "    <tr>\n",
       "      <th>5</th>\n",
       "      <td>지니</td>\n",
       "      <td>6</td>\n",
       "      <td>HAPPY</td>\n",
       "      <td>DAY6 (데이식스)</td>\n",
       "    </tr>\n",
       "    <tr>\n",
       "      <th>6</th>\n",
       "      <td>지니</td>\n",
       "      <td>7</td>\n",
       "      <td>toxic till the end</td>\n",
       "      <td>로제 (ROSÉ)</td>\n",
       "    </tr>\n",
       "    <tr>\n",
       "      <th>7</th>\n",
       "      <td>지니</td>\n",
       "      <td>8</td>\n",
       "      <td>Drowning</td>\n",
       "      <td>WOODZ</td>\n",
       "    </tr>\n",
       "    <tr>\n",
       "      <th>8</th>\n",
       "      <td>지니</td>\n",
       "      <td>9</td>\n",
       "      <td>너와의 모든 지금</td>\n",
       "      <td>재쓰비 (JAESSBEE)</td>\n",
       "    </tr>\n",
       "    <tr>\n",
       "      <th>9</th>\n",
       "      <td>지니</td>\n",
       "      <td>10</td>\n",
       "      <td>내게 사랑이 뭐냐고 물어본다면</td>\n",
       "      <td>로이킴</td>\n",
       "    </tr>\n",
       "  </tbody>\n",
       "</table>\n",
       "</div>"
      ],
      "text/plain": [
       "  서비스  순위                              타이틀                      가수\n",
       "0  지니   1  HOME SWEET HOME (Feat. 태양 & 대성)                G-DRAGON\n",
       "1  지니   2                         Whiplash                   aespa\n",
       "2  지니   3                             APT.  로제 (ROSÉ) & Bruno Mars\n",
       "3  지니   4                      REBEL HEART               IVE (아이브)\n",
       "4  지니   5                           나는 반딧불                     황가람\n",
       "5  지니   6                            HAPPY             DAY6 (데이식스)\n",
       "6  지니   7               toxic till the end               로제 (ROSÉ)\n",
       "7  지니   8                         Drowning                   WOODZ\n",
       "8  지니   9                        너와의 모든 지금          재쓰비 (JAESSBEE)\n",
       "9  지니  10                 내게 사랑이 뭐냐고 물어본다면                     로이킴"
      ]
     },
     "execution_count": 5,
     "metadata": {},
     "output_type": "execute_result"
    }
   ],
   "source": [
    "genie_data = pd.DataFrame(genie_data, columns=['서비스', '순위', '타이틀', '가수'])\n",
    "genie_data.head(10)"
   ]
  },
  {
   "cell_type": "code",
   "execution_count": 6,
   "metadata": {},
   "outputs": [
    {
     "data": {
      "text/html": [
       "<div>\n",
       "<style scoped>\n",
       "    .dataframe tbody tr th:only-of-type {\n",
       "        vertical-align: middle;\n",
       "    }\n",
       "\n",
       "    .dataframe tbody tr th {\n",
       "        vertical-align: top;\n",
       "    }\n",
       "\n",
       "    .dataframe thead th {\n",
       "        text-align: right;\n",
       "    }\n",
       "</style>\n",
       "<table border=\"1\" class=\"dataframe\">\n",
       "  <thead>\n",
       "    <tr style=\"text-align: right;\">\n",
       "      <th></th>\n",
       "      <th>서비스</th>\n",
       "      <th>순위</th>\n",
       "      <th>타이틀</th>\n",
       "      <th>가수</th>\n",
       "    </tr>\n",
       "  </thead>\n",
       "  <tbody>\n",
       "    <tr>\n",
       "      <th>0</th>\n",
       "      <td>멜론</td>\n",
       "      <td>1</td>\n",
       "      <td>HOME SWEET HOME (feat. 태양, 대성)</td>\n",
       "      <td>G-DRAGON</td>\n",
       "    </tr>\n",
       "    <tr>\n",
       "      <th>1</th>\n",
       "      <td>멜론</td>\n",
       "      <td>2</td>\n",
       "      <td>Whiplash</td>\n",
       "      <td>aespa</td>\n",
       "    </tr>\n",
       "    <tr>\n",
       "      <th>2</th>\n",
       "      <td>멜론</td>\n",
       "      <td>3</td>\n",
       "      <td>APT.</td>\n",
       "      <td>로제 (ROSÉ)</td>\n",
       "    </tr>\n",
       "    <tr>\n",
       "      <th>3</th>\n",
       "      <td>멜론</td>\n",
       "      <td>4</td>\n",
       "      <td>나는 반딧불</td>\n",
       "      <td>황가람</td>\n",
       "    </tr>\n",
       "    <tr>\n",
       "      <th>4</th>\n",
       "      <td>멜론</td>\n",
       "      <td>5</td>\n",
       "      <td>REBEL HEART</td>\n",
       "      <td>IVE (아이브)</td>\n",
       "    </tr>\n",
       "    <tr>\n",
       "      <th>5</th>\n",
       "      <td>멜론</td>\n",
       "      <td>6</td>\n",
       "      <td>toxic till the end</td>\n",
       "      <td>로제 (ROSÉ)</td>\n",
       "    </tr>\n",
       "    <tr>\n",
       "      <th>6</th>\n",
       "      <td>멜론</td>\n",
       "      <td>7</td>\n",
       "      <td>Drowning</td>\n",
       "      <td>WOODZ</td>\n",
       "    </tr>\n",
       "    <tr>\n",
       "      <th>7</th>\n",
       "      <td>멜론</td>\n",
       "      <td>8</td>\n",
       "      <td>HAPPY</td>\n",
       "      <td>DAY6 (데이식스)</td>\n",
       "    </tr>\n",
       "    <tr>\n",
       "      <th>8</th>\n",
       "      <td>멜론</td>\n",
       "      <td>9</td>\n",
       "      <td>오늘만 I LOVE YOU</td>\n",
       "      <td>BOYNEXTDOOR</td>\n",
       "    </tr>\n",
       "    <tr>\n",
       "      <th>9</th>\n",
       "      <td>멜론</td>\n",
       "      <td>10</td>\n",
       "      <td>POWER</td>\n",
       "      <td>G-DRAGON</td>\n",
       "    </tr>\n",
       "  </tbody>\n",
       "</table>\n",
       "</div>"
      ],
      "text/plain": [
       "  서비스  순위                             타이틀           가수\n",
       "0  멜론   1  HOME SWEET HOME (feat. 태양, 대성)     G-DRAGON\n",
       "1  멜론   2                        Whiplash        aespa\n",
       "2  멜론   3                            APT.    로제 (ROSÉ)\n",
       "3  멜론   4                          나는 반딧불          황가람\n",
       "4  멜론   5                     REBEL HEART    IVE (아이브)\n",
       "5  멜론   6              toxic till the end    로제 (ROSÉ)\n",
       "6  멜론   7                        Drowning        WOODZ\n",
       "7  멜론   8                           HAPPY  DAY6 (데이식스)\n",
       "8  멜론   9                  오늘만 I LOVE YOU  BOYNEXTDOOR\n",
       "9  멜론  10                           POWER     G-DRAGON"
      ]
     },
     "execution_count": 6,
     "metadata": {},
     "output_type": "execute_result"
    }
   ],
   "source": [
    "melon_data = pd.DataFrame(melon_data, columns=['서비스', '순위', '타이틀', '가수'])\n",
    "melon_data.head(10)"
   ]
  },
  {
   "cell_type": "code",
   "execution_count": 7,
   "metadata": {},
   "outputs": [],
   "source": [
    "# merge all datas \n",
    "total = pd.concat([bugs_data, genie_data, melon_data], ignore_index=True)"
   ]
  },
  {
   "cell_type": "code",
   "execution_count": 8,
   "metadata": {},
   "outputs": [],
   "source": [
    "total.to_excel('total.xlsx', index=False)"
   ]
  },
  {
   "cell_type": "code",
   "execution_count": 9,
   "metadata": {},
   "outputs": [],
   "source": [
    "# explore datas"
   ]
  },
  {
   "cell_type": "code",
   "execution_count": 10,
   "metadata": {},
   "outputs": [
    {
     "name": "stdout",
     "output_type": "stream",
     "text": [
      "<class 'pandas.core.frame.DataFrame'>\n",
      "RangeIndex: 250 entries, 0 to 249\n",
      "Data columns (total 4 columns):\n",
      " #   Column  Non-Null Count  Dtype \n",
      "---  ------  --------------  ----- \n",
      " 0   서비스     250 non-null    object\n",
      " 1   순위      250 non-null    object\n",
      " 2   타이틀     250 non-null    object\n",
      " 3   가수      250 non-null    object\n",
      "dtypes: object(4)\n",
      "memory usage: 7.9+ KB\n"
     ]
    }
   ],
   "source": [
    "total.info()"
   ]
  },
  {
   "cell_type": "code",
   "execution_count": 11,
   "metadata": {},
   "outputs": [],
   "source": [
    "total['순위'] = total['순위'].astype(int)\n",
    "# total.info()"
   ]
  },
  {
   "cell_type": "code",
   "execution_count": 12,
   "metadata": {},
   "outputs": [],
   "source": [
    "# 1. 아티스트가 차트에 얼마나 자주 등장하는지 분석 \n",
    "artist_count = total['가수'].value_counts()\n",
    "artist_analysis_df = artist_count.reset_index()\n",
    "artist_analysis_df.columns = ['가수', '등장 횟수']"
   ]
  },
  {
   "cell_type": "code",
   "execution_count": 13,
   "metadata": {},
   "outputs": [],
   "source": [
    "# 2. 각 서비스간의 겹치는 곡 비율 분석\n",
    "overlapping_songs = total.groupby('타이틀')['서비스'].nunique()\n",
    "# 겹치는 곡의 비율 계산\n",
    "overlap_percentage = (overlapping_songs.value_counts() / len(overlapping_songs)) * 100\n",
    "\n",
    "# 겹치는 곡만 선택(top3)\n",
    "top_3_overlap = overlapping_songs[overlapping_songs > 1].head(3)"
   ]
  },
  {
   "cell_type": "code",
   "execution_count": 14,
   "metadata": {},
   "outputs": [
    {
     "name": "stdout",
     "output_type": "stream",
     "text": [
      "<class 'pandas.core.frame.DataFrame'>\n",
      "RangeIndex: 250 entries, 0 to 249\n",
      "Data columns (total 4 columns):\n",
      " #   Column  Non-Null Count  Dtype \n",
      "---  ------  --------------  ----- \n",
      " 0   서비스     250 non-null    object\n",
      " 1   순위      250 non-null    int32 \n",
      " 2   타이틀     250 non-null    object\n",
      " 3   가수      250 non-null    object\n",
      "dtypes: int32(1), object(3)\n",
      "memory usage: 7.0+ KB\n"
     ]
    }
   ],
   "source": [
    "total.info()"
   ]
  },
  {
   "cell_type": "code",
   "execution_count": 30,
   "metadata": {},
   "outputs": [],
   "source": [
    "# 3. 트렌드 아티스트 분석 \n",
    "artist_count = total['가수'].value_counts()\n",
    "top_trending_artists = artist_count.head(5)\n",
    "trending_artists_df = top_trending_artists.reset_index()\n",
    "trending_artists_df.columns = ['가수', '등장 횟수']"
   ]
  },
  {
   "cell_type": "code",
   "execution_count": 4,
   "metadata": {},
   "outputs": [],
   "source": [
    "def display_analysis():\n",
    "    print(\"\\n--- 아티스트 등장 횟수 ---\")\n",
    "    print(artist_analysis_df.head(10))\n",
    "\n",
    "    print(\"\\n--- 서비스 간 겹치는 곡 비율 ---\")\n",
    "    print(overlap_analysis_df)\n",
    "    print(f\"\\nOverlap Percentage:\\n{overlap_percentage}\")\n",
    "\n",
    "    print(\"\\n--- 트렌드 아티스트 분석 ---\")\n",
    "    print(trending_artists_df)\n",
    "\n",
    "# display_analysis() #어떤 식으로 시각화할지 생각해보기 위한 출력 "
   ]
  },
  {
   "cell_type": "code",
   "execution_count": null,
   "metadata": {},
   "outputs": [
    {
     "data": {
      "image/png": "[encoded data removed]",
      "text/plain": [
       "<Figure size 1000x600 with 1 Axes>"
      ]
     },
     "metadata": {},
     "output_type": "display_data"
    }
   ],
   "source": [
    "# 1. Top10에서 어떤 가수가 많이 등장하는지 \n",
    "plt.figure(figsize=(10, 6))\n",
    "plt.bar(trending_artists_df['가수'], trending_artists_df['등장 횟수'])\n",
    "plt.title('TOP10 가수 등장 횟수', fontsize=14)\n",
    "plt.xlabel('가수', fontsize=12)\n",
    "plt.ylabel('등장 횟수', fontsize=12)\n",
    "plt.xticks(rotation=45, ha='right')\n",
    "plt.tight_layout()\n",
    "plt.show()"
   ]
  },
  {
   "cell_type": "code",
   "execution_count": null,
   "metadata": {},
   "outputs": [
    {
     "data": {
      "image/png": "[encoded data removed]",
      "text/plain": [
       "<Figure size 1200x800 with 1 Axes>"
      ]
     },
     "metadata": {},
     "output_type": "display_data"
    }
   ],
   "source": [
    "# 2. 각 서비스 별로 겹치는 곡의 비율 (top3)\n",
    "plt.figure(figsize=(12, 8))\n",
    "plt.pie(\n",
    "    top_3_overlap,\n",
    "    labels=top_3_overlap.index,\n",
    "    autopct='%1.1f%%',\n",
    "    startangle=140,\n",
    "    colors=plt.cm.Paired.colors\n",
    ")\n",
    "plt.title('각 서비스 별로 겹치는 곡의 비율 ', fontsize=14)\n",
    "plt.show()"
   ]
  },
  {
   "cell_type": "code",
   "execution_count": null,
   "metadata": {},
   "outputs": [
    {
     "data": {
      "image/png": "[encoded data removed]",
      "text/plain": [
       "<Figure size 1200x800 with 1 Axes>"
      ]
     },
     "metadata": {},
     "output_type": "display_data"
    }
   ],
   "source": [
    "# 3. 트렌드 아티스트 분석 \n",
    "plt.figure(figsize=(12, 8))\n",
    "sns.barplot(data=trending_artists_df, x='가수', y='등장 횟수', palette='coolwarm')\n",
    "plt.title('트렌드 아티스트 분석', fontsize=14)\n",
    "plt.ylabel('등장 횟수')\n",
    "plt.xlabel('가수')\n",
    "plt.show()"
   ]
  },
  {
   "cell_type": "markdown",
   "metadata": {},
   "source": [
    "##### 1.23일 오후 2시 기준, 차트에서의 등장 횟수가 높을수록, 트렌디한 아티스트라고 가정 -> **데이식스, 임영웅, 에스파** 등이 **인기 있는 아티스트**로 분석됨. \n",
    "##### 각 서비스 별로 겹치는 노래를 확인해 봤을 때, **\"1. APT(Rose)\"** 의 비율이 압도적으로 높고, **\"2. Armegeddon(에스파), 3. Boom Boom Bass(Riize)\"** 또한 자주 등장하는 노래인 것 확인. "
   ]
  },
  {
   "cell_type": "markdown",
   "metadata": {},
   "source": []
  }
 ],
 "metadata": {
  "kernelspec": {
   "display_name": "Python 3 (ipykernel)",
   "language": "python",
   "name": "python3"
  },
  "language_info": {
   "codemirror_mode": {
    "name": "ipython",
    "version": 3
   },
   "file_extension": ".py",
   "mimetype": "text/x-python",
   "name": "python",
   "nbconvert_exporter": "python",
   "pygments_lexer": "ipython3",
   "version": "3.12.7"
  }
 },
 "nbformat": 4,
 "nbformat_minor": 4
}
