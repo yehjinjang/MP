{
 "cells": [
  {
   "cell_type": "code",
   "execution_count": null,
   "metadata": {},
   "outputs": [],
   "source": [
    "# pip install selenium"
   ]
  },
  {
   "cell_type": "code",
   "execution_count": 9,
   "metadata": {},
   "outputs": [],
   "source": [
    "import time\n",
    "from selenium import webdriver\n",
    "from selenium.webdriver.common.by import By\n",
    "from selenium.webdriver.chrome.service import Service as ChromeService\n",
    "from selenium.webdriver.support.ui import WebDriverWait\n",
    "from selenium.webdriver.support import expected_conditions as EC\n",
    "from selenium.webdriver.common.keys import Keys\n",
    "from webdriver_manager.chrome import ChromeDriverManager"
   ]
  },
  {
   "cell_type": "code",
   "execution_count": null,
   "metadata": {},
   "outputs": [],
   "source": [
    "service = ChromeService(ChromeDriverManager().install())\n",
    "driver = webdriver.Chrome(service=service)\n",
    "\n",
    "# URL 접근\n",
    "base_url = 'https://youtube-rank.com/board/bbs/board.php?bo_table=youtube&page='\n",
    "\n",
    "# 데이터 저장 리스트\n",
    "data = []\n",
    "\n",
    "# 페이지 순회 (1~10페이지)\n",
    "for page in range(1, 11):\n",
    "    # 페이지 이동\n",
    "    url = f\"{base_url}{page}\"\n",
    "    driver.get(url)\n",
    "    print(f\"페이지 {page} 처리 중...\")\n",
    "    time.sleep(1) \n",
    "\n",
    "    # 스크롤 반복 및 데이터 수집\n",
    "    for _ in range(16): \n",
    "        rows = driver.find_elements(By.XPATH, '//tr')\n",
    "        for row in rows:\n",
    "            try:\n",
    "                # 태그 확인하고 데이터 추출하기\n",
    "                category = row.find_element(By.XPATH, './td[3]/h1/p').text  # 카테고리\n",
    "                title = row.find_element(By.XPATH, './td[3]/h1/a').text  # 제목\n",
    "                subscriber_cnt = row.find_element(By.XPATH, './td[4]').text  # 구독자수\n",
    "                view_cnt = row.find_element(By.XPATH, './td[5]').text  # 조회수\n",
    "                video_cnt = row.find_element(By.XPATH, './td[6]').text  # 비디오수\n",
    "\n",
    "                # 중복 데이터 방지\n",
    "                if not any(d['제목'] == title for d in data):\n",
    "                    data.append({\n",
    "                        '페이지': page,\n",
    "                        '카테고리': category,\n",
    "                        '제목': title,\n",
    "                        '구독자수': subscriber_cnt,\n",
    "                        '조회수': view_cnt,\n",
    "                        '비디오수': video_cnt\n",
    "                    })\n",
    "            except Exception as e:\n",
    "                # 비어 있는 행 스킵\n",
    "                print(f\"Error processing row: {e}\")\n",
    "\n",
    "        # PAGE_DOWN 키로 스크롤\n",
    "        driver.find_element(By.TAG_NAME, 'body').send_keys(Keys.PAGE_DOWN)\n",
    "        time.sleep(1)  # 데이터 로드 대기\n",
    "\n",
    "# 브라우저 종료\n",
    "driver.quit()"
   ]
  },
  {
   "cell_type": "code",
   "execution_count": 16,
   "metadata": {},
   "outputs": [
    {
     "data": {
      "text/html": [
       "<div>\n",
       "<style scoped>\n",
       "    .dataframe tbody tr th:only-of-type {\n",
       "        vertical-align: middle;\n",
       "    }\n",
       "\n",
       "    .dataframe tbody tr th {\n",
       "        vertical-align: top;\n",
       "    }\n",
       "\n",
       "    .dataframe thead th {\n",
       "        text-align: right;\n",
       "    }\n",
       "</style>\n",
       "<table border=\"1\" class=\"dataframe\">\n",
       "  <thead>\n",
       "    <tr style=\"text-align: right;\">\n",
       "      <th></th>\n",
       "      <th>페이지</th>\n",
       "      <th>카테고리</th>\n",
       "      <th>제목</th>\n",
       "      <th>구독자수</th>\n",
       "      <th>조회수</th>\n",
       "      <th>비디오수</th>\n",
       "    </tr>\n",
       "  </thead>\n",
       "  <tbody>\n",
       "    <tr>\n",
       "      <th>0</th>\n",
       "      <td>1</td>\n",
       "      <td>[음악/댄스/가수]</td>\n",
       "      <td>BLACKPINK</td>\n",
       "      <td>9570만</td>\n",
       "      <td>378억7825만</td>\n",
       "      <td>603개</td>\n",
       "    </tr>\n",
       "    <tr>\n",
       "      <th>1</th>\n",
       "      <td>1</td>\n",
       "      <td>[BJ/인물/연예인]</td>\n",
       "      <td>김프로KIMPRO</td>\n",
       "      <td>8350만</td>\n",
       "      <td>522억9923만</td>\n",
       "      <td>2,944개</td>\n",
       "    </tr>\n",
       "    <tr>\n",
       "      <th>2</th>\n",
       "      <td>1</td>\n",
       "      <td>[음악/댄스/가수]</td>\n",
       "      <td>BANGTANTV</td>\n",
       "      <td>7970만</td>\n",
       "      <td>244억0527만</td>\n",
       "      <td>2,693개</td>\n",
       "    </tr>\n",
       "    <tr>\n",
       "      <th>3</th>\n",
       "      <td>1</td>\n",
       "      <td>[음악/댄스/가수]</td>\n",
       "      <td>HYBE LABELS</td>\n",
       "      <td>7650만</td>\n",
       "      <td>378억6932만</td>\n",
       "      <td>2,283개</td>\n",
       "    </tr>\n",
       "    <tr>\n",
       "      <th>4</th>\n",
       "      <td>1</td>\n",
       "      <td></td>\n",
       "      <td></td>\n",
       "      <td></td>\n",
       "      <td></td>\n",
       "      <td></td>\n",
       "    </tr>\n",
       "    <tr>\n",
       "      <th>...</th>\n",
       "      <td>...</td>\n",
       "      <td>...</td>\n",
       "      <td>...</td>\n",
       "      <td>...</td>\n",
       "      <td>...</td>\n",
       "      <td>...</td>\n",
       "    </tr>\n",
       "    <tr>\n",
       "      <th>993</th>\n",
       "      <td>10</td>\n",
       "      <td>[미분류]</td>\n",
       "      <td>BANDAI NAMCO Europe</td>\n",
       "      <td>92만</td>\n",
       "      <td>4억5538만</td>\n",
       "      <td>4,435개</td>\n",
       "    </tr>\n",
       "    <tr>\n",
       "      <th>994</th>\n",
       "      <td>10</td>\n",
       "      <td>[패션/미용]</td>\n",
       "      <td>도영도영이</td>\n",
       "      <td>92만</td>\n",
       "      <td>9712만</td>\n",
       "      <td>279개</td>\n",
       "    </tr>\n",
       "    <tr>\n",
       "      <th>995</th>\n",
       "      <td>10</td>\n",
       "      <td>[미분류]</td>\n",
       "      <td>재훍 영상툰</td>\n",
       "      <td>92만</td>\n",
       "      <td>5억2926만</td>\n",
       "      <td>347개</td>\n",
       "    </tr>\n",
       "    <tr>\n",
       "      <th>996</th>\n",
       "      <td>10</td>\n",
       "      <td>[음악/댄스/가수]</td>\n",
       "      <td>Healing Meditation</td>\n",
       "      <td>92만</td>\n",
       "      <td>1억3446만</td>\n",
       "      <td>563개</td>\n",
       "    </tr>\n",
       "    <tr>\n",
       "      <th>997</th>\n",
       "      <td>10</td>\n",
       "      <td>[키즈/어린이]</td>\n",
       "      <td>Big Funny</td>\n",
       "      <td>92만</td>\n",
       "      <td>3만</td>\n",
       "      <td>43개</td>\n",
       "    </tr>\n",
       "  </tbody>\n",
       "</table>\n",
       "<p>998 rows × 6 columns</p>\n",
       "</div>"
      ],
      "text/plain": [
       "     페이지         카테고리                   제목   구독자수        조회수    비디오수\n",
       "0      1   [음악/댄스/가수]            BLACKPINK  9570만  378억7825만    603개\n",
       "1      1  [BJ/인물/연예인]            김프로KIMPRO  8350만  522억9923만  2,944개\n",
       "2      1   [음악/댄스/가수]            BANGTANTV  7970만  244억0527만  2,693개\n",
       "3      1   [음악/댄스/가수]          HYBE LABELS  7650만  378억6932만  2,283개\n",
       "4      1                                                            \n",
       "..   ...          ...                  ...    ...        ...     ...\n",
       "993   10        [미분류]  BANDAI NAMCO Europe    92만    4억5538만  4,435개\n",
       "994   10      [패션/미용]                도영도영이    92만      9712만    279개\n",
       "995   10        [미분류]               재훍 영상툰    92만    5억2926만    347개\n",
       "996   10   [음악/댄스/가수]   Healing Meditation    92만    1억3446만    563개\n",
       "997   10     [키즈/어린이]            Big Funny    92만         3만     43개\n",
       "\n",
       "[998 rows x 6 columns]"
      ]
     },
     "execution_count": 16,
     "metadata": {},
     "output_type": "execute_result"
    }
   ],
   "source": [
    "# 데이터 확인 \n",
    "df = pd.DataFrame(data)\n",
    "df"
   ]
  },
  {
   "cell_type": "code",
   "execution_count": 17,
   "metadata": {},
   "outputs": [],
   "source": [
    "# 추출 데이터 저장 \n",
    "df.to_csv('youtube_rank.csv', index=False, encoding='utf-8-sig')"
   ]
  },
  {
   "cell_type": "code",
   "execution_count": 54,
   "metadata": {},
   "outputs": [],
   "source": [
    "import pandas as pd \n",
    "import matplotlib.pyplot as plt \n",
    "import plotly.express as px\n",
    "import matplotlib as mpl \n",
    "mpl.rcParams['axes.unicode_minus'] = False\n",
    "plt.rc('font',family='Malgun Gothic')\n",
    "\n",
    "import warnings\n",
    "warnings.filterwarnings('ignore',category=FutureWarning)"
   ]
  },
  {
   "cell_type": "markdown",
   "metadata": {},
   "source": [
    "#### 유튜브 카테고리 별 분포"
   ]
  },
  {
   "cell_type": "code",
   "execution_count": 33,
   "metadata": {},
   "outputs": [
    {
     "data": {
      "image/png": "[encoded data removed]",
      "text/plain": [
       "<Figure size 1000x800 with 1 Axes>"
      ]
     },
     "metadata": {},
     "output_type": "display_data"
    }
   ],
   "source": [
    "category_count = df['카테고리'].value_counts()\n",
    "plt.figure(figsize=(10,8))\n",
    "category_count.plot.pie(autopct='%1.1f%%', startangle=90, cmap='tab10', ylabel='')\n",
    "plt.show()"
   ]
  },
  {
   "cell_type": "markdown",
   "metadata": {},
   "source": [
    "#### 카테고리 별 구독자 수 분포"
   ]
  },
  {
   "cell_type": "code",
   "execution_count": null,
   "metadata": {},
   "outputs": [],
   "source": [
    "# 형변환  \n",
    "def convert_to_int(value):\n",
    "    if pd.isna(value) or (isinstance(value, str) and value.strip() == ''):\n",
    "        return 0\n",
    "    try:\n",
    "        if isinstance(value, str):\n",
    "            if '억' in value:\n",
    "                value = value.replace('억', '').strip()\n",
    "                value = int(float(value) * 100000000)\n",
    "            elif '만' in value:\n",
    "                value = value.replace('만', '').strip()\n",
    "                value = int(float(value) * 10000)\n",
    "            else:\n",
    "                value = int(value)\n",
    "        else:\n",
    "            value = int(value)\n",
    "    except ValueError:\n",
    "        return 0\n",
    "    return value\n",
    "\n",
    "df['구독자수'] = df['구독자수'].apply(convert_to_int)\n",
    "df['조회수'] = df['조회수'].apply(convert_to_int)\n",
    "df['비디오수'] = df['비디오수'].apply(convert_to_int)\n",
    "# df.head(5) "
   ]
  },
  {
   "cell_type": "code",
   "execution_count": 53,
   "metadata": {},
   "outputs": [
    {
     "data": {
      "image/png": "[encoded data removed]",
      "text/plain": [
       "<Figure size 1200x800 with 1 Axes>"
      ]
     },
     "metadata": {},
     "output_type": "display_data"
    }
   ],
   "source": [
    "category_subscriber_count = df.groupby('카테고리')['구독자수'].sum()\n",
    "\n",
    "\n",
    "plt.figure(figsize=(12, 8))\n",
    "category_subscriber_count.plot(kind='bar', color='skyblue')\n",
    "plt.title('카테고리 별 구독자 수')\n",
    "plt.xlabel('카테고리')\n",
    "plt.ylabel('구독자 수')\n",
    "plt.xticks(rotation=45)\n",
    "plt.show()"
   ]
  },
  {
   "cell_type": "markdown",
   "metadata": {},
   "source": [
    "#### 카테고리 별 조회수"
   ]
  },
  {
   "cell_type": "code",
   "execution_count": 58,
   "metadata": {},
   "outputs": [
    {
     "data": {
      "image/png": "[encoded data removed]",
      "text/plain": [
       "<Figure size 1200x800 with 1 Axes>"
      ]
     },
     "metadata": {},
     "output_type": "display_data"
    }
   ],
   "source": [
    "# 카테고리별 조회수 합계 계산\n",
    "category_view_count = df.groupby('카테고리')['조회수'].sum()\n",
    "\n",
    "# 바 차트 그리기\n",
    "plt.figure(figsize=(12, 8))\n",
    "category_view_count.plot(kind='bar', color='lightgreen')\n",
    "plt.title('카테고리 별 조회수')\n",
    "plt.xlabel('카테고리')\n",
    "plt.ylabel('조회수')\n",
    "plt.xticks(rotation=45)\n",
    "plt.show()"
   ]
  },
  {
   "cell_type": "code",
   "execution_count": 64,
   "metadata": {},
   "outputs": [
    {
     "data": {
      "application/vnd.plotly.v1+json": {
       "config": {
        "plotlyServerURL": "https://plot.ly"
       },
       "data": [
        {
         "hovertemplate": "<b>%{hovertext}</b><br><br>카테고리=%{x}<br>조회수=%{marker.size}<extra></extra>",
         "hovertext": [
          ""
         ],
         "legendgroup": "",
         "marker": {
          "color": "#636efa",
          "size": [
           0
          ],
          "sizemode": "area",
          "sizeref": 111505.55555555556,
          "symbol": "circle"
         },
         "mode": "markers",
         "name": "",
         "orientation": "v",
         "showlegend": false,
         "type": "scatter",
         "x": [
          ""
         ],
         "xaxis": "x",
         "y": [
          0
         ],
         "yaxis": "y"
        },
        {
         "hovertemplate": "<b>%{hovertext}</b><br><br>카테고리=%{x}<br>조회수=%{marker.size}<extra></extra>",
         "hovertext": [
          "[BJ/인물/연예인]"
         ],
         "legendgroup": "[BJ/인물/연예인]",
         "marker": {
          "color": "#EF553B",
          "size": [
           198940000
          ],
          "sizemode": "area",
          "sizeref": 111505.55555555556,
          "symbol": "circle"
         },
         "mode": "markers",
         "name": "[BJ/인물/연예인]",
         "orientation": "v",
         "showlegend": true,
         "type": "scatter",
         "x": [
          "[BJ/인물/연예인]"
         ],
         "xaxis": "x",
         "y": [
          198940000
         ],
         "yaxis": "y"
        },
        {
         "hovertemplate": "<b>%{hovertext}</b><br><br>카테고리=%{x}<br>조회수=%{marker.size}<extra></extra>",
         "hovertext": [
          "[IT/기술/컴퓨터]"
         ],
         "legendgroup": "[IT/기술/컴퓨터]",
         "marker": {
          "color": "#00cc96",
          "size": [
           0
          ],
          "sizemode": "area",
          "sizeref": 111505.55555555556,
          "symbol": "circle"
         },
         "mode": "markers",
         "name": "[IT/기술/컴퓨터]",
         "orientation": "v",
         "showlegend": true,
         "type": "scatter",
         "x": [
          "[IT/기술/컴퓨터]"
         ],
         "xaxis": "x",
         "y": [
          0
         ],
         "yaxis": "y"
        },
        {
         "hovertemplate": "<b>%{hovertext}</b><br><br>카테고리=%{x}<br>조회수=%{marker.size}<extra></extra>",
         "hovertext": [
          "[TV/방송]"
         ],
         "legendgroup": "[TV/방송]",
         "marker": {
          "color": "#ab63fa",
          "size": [
           326140000
          ],
          "sizemode": "area",
          "sizeref": 111505.55555555556,
          "symbol": "circle"
         },
         "mode": "markers",
         "name": "[TV/방송]",
         "orientation": "v",
         "showlegend": true,
         "type": "scatter",
         "x": [
          "[TV/방송]"
         ],
         "xaxis": "x",
         "y": [
          326140000
         ],
         "yaxis": "y"
        },
        {
         "hovertemplate": "<b>%{hovertext}</b><br><br>카테고리=%{x}<br>조회수=%{marker.size}<extra></extra>",
         "hovertext": [
          "[게임]"
         ],
         "legendgroup": "[게임]",
         "marker": {
          "color": "#FFA15A",
          "size": [
           0
          ],
          "sizemode": "area",
          "sizeref": 111505.55555555556,
          "symbol": "circle"
         },
         "mode": "markers",
         "name": "[게임]",
         "orientation": "v",
         "showlegend": true,
         "type": "scatter",
         "x": [
          "[게임]"
         ],
         "xaxis": "x",
         "y": [
          0
         ],
         "yaxis": "y"
        },
        {
         "hovertemplate": "<b>%{hovertext}</b><br><br>카테고리=%{x}<br>조회수=%{marker.size}<extra></extra>",
         "hovertext": [
          "[교육/강의]"
         ],
         "legendgroup": "[교육/강의]",
         "marker": {
          "color": "#19d3f3",
          "size": [
           0
          ],
          "sizemode": "area",
          "sizeref": 111505.55555555556,
          "symbol": "circle"
         },
         "mode": "markers",
         "name": "[교육/강의]",
         "orientation": "v",
         "showlegend": true,
         "type": "scatter",
         "x": [
          "[교육/강의]"
         ],
         "xaxis": "x",
         "y": [
          0
         ],
         "yaxis": "y"
        },
        {
         "hovertemplate": "<b>%{hovertext}</b><br><br>카테고리=%{x}<br>조회수=%{marker.size}<extra></extra>",
         "hovertext": [
          "[국내/해외/여행]"
         ],
         "legendgroup": "[국내/해외/여행]",
         "marker": {
          "color": "#FF6692",
          "size": [
           0
          ],
          "sizemode": "area",
          "sizeref": 111505.55555555556,
          "symbol": "circle"
         },
         "mode": "markers",
         "name": "[국내/해외/여행]",
         "orientation": "v",
         "showlegend": true,
         "type": "scatter",
         "x": [
          "[국내/해외/여행]"
         ],
         "xaxis": "x",
         "y": [
          0
         ],
         "yaxis": "y"
        },
        {
         "hovertemplate": "<b>%{hovertext}</b><br><br>카테고리=%{x}<br>조회수=%{marker.size}<extra></extra>",
         "hovertext": [
          "[뉴스/정치/사회]"
         ],
         "legendgroup": "[뉴스/정치/사회]",
         "marker": {
          "color": "#B6E880",
          "size": [
           0
          ],
          "sizemode": "area",
          "sizeref": 111505.55555555556,
          "symbol": "circle"
         },
         "mode": "markers",
         "name": "[뉴스/정치/사회]",
         "orientation": "v",
         "showlegend": true,
         "type": "scatter",
         "x": [
          "[뉴스/정치/사회]"
         ],
         "xaxis": "x",
         "y": [
          0
         ],
         "yaxis": "y"
        },
        {
         "hovertemplate": "<b>%{hovertext}</b><br><br>카테고리=%{x}<br>조회수=%{marker.size}<extra></extra>",
         "hovertext": [
          "[미분류]"
         ],
         "legendgroup": "[미분류]",
         "marker": {
          "color": "#FF97FF",
          "size": [
           401420000
          ],
          "sizemode": "area",
          "sizeref": 111505.55555555556,
          "symbol": "circle"
         },
         "mode": "markers",
         "name": "[미분류]",
         "orientation": "v",
         "showlegend": true,
         "type": "scatter",
         "x": [
          "[미분류]"
         ],
         "xaxis": "x",
         "y": [
          401420000
         ],
         "yaxis": "y"
        },
        {
         "hovertemplate": "<b>%{hovertext}</b><br><br>카테고리=%{x}<br>조회수=%{marker.size}<extra></extra>",
         "hovertext": [
          "[스포츠/운동]"
         ],
         "legendgroup": "[스포츠/운동]",
         "marker": {
          "color": "#FECB52",
          "size": [
           97320000
          ],
          "sizemode": "area",
          "sizeref": 111505.55555555556,
          "symbol": "circle"
         },
         "mode": "markers",
         "name": "[스포츠/운동]",
         "orientation": "v",
         "showlegend": true,
         "type": "scatter",
         "x": [
          "[스포츠/운동]"
         ],
         "xaxis": "x",
         "y": [
          97320000
         ],
         "yaxis": "y"
        },
        {
         "hovertemplate": "<b>%{hovertext}</b><br><br>카테고리=%{x}<br>조회수=%{marker.size}<extra></extra>",
         "hovertext": [
          "[애완/반려동물]"
         ],
         "legendgroup": "[애완/반려동물]",
         "marker": {
          "color": "#636efa",
          "size": [
           0
          ],
          "sizemode": "area",
          "sizeref": 111505.55555555556,
          "symbol": "circle"
         },
         "mode": "markers",
         "name": "[애완/반려동물]",
         "orientation": "v",
         "showlegend": true,
         "type": "scatter",
         "x": [
          "[애완/반려동물]"
         ],
         "xaxis": "x",
         "y": [
          0
         ],
         "yaxis": "y"
        },
        {
         "hovertemplate": "<b>%{hovertext}</b><br><br>카테고리=%{x}<br>조회수=%{marker.size}<extra></extra>",
         "hovertext": [
          "[영화/만화/애니]"
         ],
         "legendgroup": "[영화/만화/애니]",
         "marker": {
          "color": "#EF553B",
          "size": [
           7700000
          ],
          "sizemode": "area",
          "sizeref": 111505.55555555556,
          "symbol": "circle"
         },
         "mode": "markers",
         "name": "[영화/만화/애니]",
         "orientation": "v",
         "showlegend": true,
         "type": "scatter",
         "x": [
          "[영화/만화/애니]"
         ],
         "xaxis": "x",
         "y": [
          7700000
         ],
         "yaxis": "y"
        },
        {
         "hovertemplate": "<b>%{hovertext}</b><br><br>카테고리=%{x}<br>조회수=%{marker.size}<extra></extra>",
         "hovertext": [
          "[음식/요리/레시피]"
         ],
         "legendgroup": "[음식/요리/레시피]",
         "marker": {
          "color": "#00cc96",
          "size": [
           0
          ],
          "sizemode": "area",
          "sizeref": 111505.55555555556,
          "symbol": "circle"
         },
         "mode": "markers",
         "name": "[음식/요리/레시피]",
         "orientation": "v",
         "showlegend": true,
         "type": "scatter",
         "x": [
          "[음식/요리/레시피]"
         ],
         "xaxis": "x",
         "y": [
          0
         ],
         "yaxis": "y"
        },
        {
         "hovertemplate": "<b>%{hovertext}</b><br><br>카테고리=%{x}<br>조회수=%{marker.size}<extra></extra>",
         "hovertext": [
          "[음악/댄스/가수]"
         ],
         "legendgroup": "[음악/댄스/가수]",
         "marker": {
          "color": "#ab63fa",
          "size": [
           180520000
          ],
          "sizemode": "area",
          "sizeref": 111505.55555555556,
          "symbol": "circle"
         },
         "mode": "markers",
         "name": "[음악/댄스/가수]",
         "orientation": "v",
         "showlegend": true,
         "type": "scatter",
         "x": [
          "[음악/댄스/가수]"
         ],
         "xaxis": "x",
         "y": [
          180520000
         ],
         "yaxis": "y"
        },
        {
         "hovertemplate": "<b>%{hovertext}</b><br><br>카테고리=%{x}<br>조회수=%{marker.size}<extra></extra>",
         "hovertext": [
          "[자동차]"
         ],
         "legendgroup": "[자동차]",
         "marker": {
          "color": "#FFA15A",
          "size": [
           0
          ],
          "sizemode": "area",
          "sizeref": 111505.55555555556,
          "symbol": "circle"
         },
         "mode": "markers",
         "name": "[자동차]",
         "orientation": "v",
         "showlegend": true,
         "type": "scatter",
         "x": [
          "[자동차]"
         ],
         "xaxis": "x",
         "y": [
          0
         ],
         "yaxis": "y"
        },
        {
         "hovertemplate": "<b>%{hovertext}</b><br><br>카테고리=%{x}<br>조회수=%{marker.size}<extra></extra>",
         "hovertext": [
          "[주식/경제/부동산]"
         ],
         "legendgroup": "[주식/경제/부동산]",
         "marker": {
          "color": "#19d3f3",
          "size": [
           0
          ],
          "sizemode": "area",
          "sizeref": 111505.55555555556,
          "symbol": "circle"
         },
         "mode": "markers",
         "name": "[주식/경제/부동산]",
         "orientation": "v",
         "showlegend": true,
         "type": "scatter",
         "x": [
          "[주식/경제/부동산]"
         ],
         "xaxis": "x",
         "y": [
          0
         ],
         "yaxis": "y"
        },
        {
         "hovertemplate": "<b>%{hovertext}</b><br><br>카테고리=%{x}<br>조회수=%{marker.size}<extra></extra>",
         "hovertext": [
          "[취미/라이프]"
         ],
         "legendgroup": "[취미/라이프]",
         "marker": {
          "color": "#FF6692",
          "size": [
           50140000
          ],
          "sizemode": "area",
          "sizeref": 111505.55555555556,
          "symbol": "circle"
         },
         "mode": "markers",
         "name": "[취미/라이프]",
         "orientation": "v",
         "showlegend": true,
         "type": "scatter",
         "x": [
          "[취미/라이프]"
         ],
         "xaxis": "x",
         "y": [
          50140000
         ],
         "yaxis": "y"
        },
        {
         "hovertemplate": "<b>%{hovertext}</b><br><br>카테고리=%{x}<br>조회수=%{marker.size}<extra></extra>",
         "hovertext": [
          "[키즈/어린이]"
         ],
         "legendgroup": "[키즈/어린이]",
         "marker": {
          "color": "#B6E880",
          "size": [
           255570000
          ],
          "sizemode": "area",
          "sizeref": 111505.55555555556,
          "symbol": "circle"
         },
         "mode": "markers",
         "name": "[키즈/어린이]",
         "orientation": "v",
         "showlegend": true,
         "type": "scatter",
         "x": [
          "[키즈/어린이]"
         ],
         "xaxis": "x",
         "y": [
          255570000
         ],
         "yaxis": "y"
        },
        {
         "hovertemplate": "<b>%{hovertext}</b><br><br>카테고리=%{x}<br>조회수=%{marker.size}<extra></extra>",
         "hovertext": [
          "[패션/미용]"
         ],
         "legendgroup": "[패션/미용]",
         "marker": {
          "color": "#FF97FF",
          "size": [
           383100000
          ],
          "sizemode": "area",
          "sizeref": 111505.55555555556,
          "symbol": "circle"
         },
         "mode": "markers",
         "name": "[패션/미용]",
         "orientation": "v",
         "showlegend": true,
         "type": "scatter",
         "x": [
          "[패션/미용]"
         ],
         "xaxis": "x",
         "y": [
          383100000
         ],
         "yaxis": "y"
        },
        {
         "hovertemplate": "<b>%{hovertext}</b><br><br>카테고리=%{x}<br>조회수=%{marker.size}<extra></extra>",
         "hovertext": [
          "[해외]"
         ],
         "legendgroup": "[해외]",
         "marker": {
          "color": "#FECB52",
          "size": [
           0
          ],
          "sizemode": "area",
          "sizeref": 111505.55555555556,
          "symbol": "circle"
         },
         "mode": "markers",
         "name": "[해외]",
         "orientation": "v",
         "showlegend": true,
         "type": "scatter",
         "x": [
          "[해외]"
         ],
         "xaxis": "x",
         "y": [
          0
         ],
         "yaxis": "y"
        },
        {
         "hovertemplate": "<b>%{hovertext}</b><br><br>카테고리=%{x}<br>조회수=%{marker.size}<extra></extra>",
         "hovertext": [
          "[회사/오피셜]"
         ],
         "legendgroup": "[회사/오피셜]",
         "marker": {
          "color": "#636efa",
          "size": [
           0
          ],
          "sizemode": "area",
          "sizeref": 111505.55555555556,
          "symbol": "circle"
         },
         "mode": "markers",
         "name": "[회사/오피셜]",
         "orientation": "v",
         "showlegend": true,
         "type": "scatter",
         "x": [
          "[회사/오피셜]"
         ],
         "xaxis": "x",
         "y": [
          0
         ],
         "yaxis": "y"
        }
       ],
       "layout": {
        "legend": {
         "itemsizing": "constant",
         "title": {
          "text": "카테고리"
         },
         "tracegroupgap": 0
        },
        "template": {
         "data": {
          "bar": [
           {
            "error_x": {
             "color": "#2a3f5f"
            },
            "error_y": {
             "color": "#2a3f5f"
            },
            "marker": {
             "line": {
              "color": "#E5ECF6",
              "width": 0.5
             },
             "pattern": {
              "fillmode": "overlay",
              "size": 10,
              "solidity": 0.2
             }
            },
            "type": "bar"
           }
          ],
          "barpolar": [
           {
            "marker": {
             "line": {
              "color": "#E5ECF6",
              "width": 0.5
             },
             "pattern": {
              "fillmode": "overlay",
              "size": 10,
              "solidity": 0.2
             }
            },
            "type": "barpolar"
           }
          ],
          "carpet": [
           {
            "aaxis": {
             "endlinecolor": "#2a3f5f",
             "gridcolor": "white",
             "linecolor": "white",
             "minorgridcolor": "white",
             "startlinecolor": "#2a3f5f"
            },
            "baxis": {
             "endlinecolor": "#2a3f5f",
             "gridcolor": "white",
             "linecolor": "white",
             "minorgridcolor": "white",
             "startlinecolor": "#2a3f5f"
            },
            "type": "carpet"
           }
          ],
          "choropleth": [
           {
            "colorbar": {
             "outlinewidth": 0,
             "ticks": ""
            },
            "type": "choropleth"
           }
          ],
          "contour": [
           {
            "colorbar": {
             "outlinewidth": 0,
             "ticks": ""
            },
            "colorscale": [
             [
              0,
              "#0d0887"
             ],
             [
              0.1111111111111111,
              "#46039f"
             ],
             [
              0.2222222222222222,
              "#7201a8"
             ],
             [
              0.3333333333333333,
              "#9c179e"
             ],
             [
              0.4444444444444444,
              "#bd3786"
             ],
             [
              0.5555555555555556,
              "#d8576b"
             ],
             [
              0.6666666666666666,
              "#ed7953"
             ],
             [
              0.7777777777777778,
              "#fb9f3a"
             ],
             [
              0.8888888888888888,
              "#fdca26"
             ],
             [
              1,
              "#f0f921"
             ]
            ],
            "type": "contour"
           }
          ],
          "contourcarpet": [
           {
            "colorbar": {
             "outlinewidth": 0,
             "ticks": ""
            },
            "type": "contourcarpet"
           }
          ],
          "heatmap": [
           {
            "colorbar": {
             "outlinewidth": 0,
             "ticks": ""
            },
            "colorscale": [
             [
              0,
              "#0d0887"
             ],
             [
              0.1111111111111111,
              "#46039f"
             ],
             [
              0.2222222222222222,
              "#7201a8"
             ],
             [
              0.3333333333333333,
              "#9c179e"
             ],
             [
              0.4444444444444444,
              "#bd3786"
             ],
             [
              0.5555555555555556,
              "#d8576b"
             ],
             [
              0.6666666666666666,
              "#ed7953"
             ],
             [
              0.7777777777777778,
              "#fb9f3a"
             ],
             [
              0.8888888888888888,
              "#fdca26"
             ],
             [
              1,
              "#f0f921"
             ]
            ],
            "type": "heatmap"
           }
          ],
          "heatmapgl": [
           {
            "colorbar": {
             "outlinewidth": 0,
             "ticks": ""
            },
            "colorscale": [
             [
              0,
              "#0d0887"
             ],
             [
              0.1111111111111111,
              "#46039f"
             ],
             [
              0.2222222222222222,
              "#7201a8"
             ],
             [
              0.3333333333333333,
              "#9c179e"
             ],
             [
              0.4444444444444444,
              "#bd3786"
             ],
             [
              0.5555555555555556,
              "#d8576b"
             ],
             [
              0.6666666666666666,
              "#ed7953"
             ],
             [
              0.7777777777777778,
              "#fb9f3a"
             ],
             [
              0.8888888888888888,
              "#fdca26"
             ],
             [
              1,
              "#f0f921"
             ]
            ],
            "type": "heatmapgl"
           }
          ],
          "histogram": [
           {
            "marker": {
             "pattern": {
              "fillmode": "overlay",
              "size": 10,
              "solidity": 0.2
             }
            },
            "type": "histogram"
           }
          ],
          "histogram2d": [
           {
            "colorbar": {
             "outlinewidth": 0,
             "ticks": ""
            },
            "colorscale": [
             [
              0,
              "#0d0887"
             ],
             [
              0.1111111111111111,
              "#46039f"
             ],
             [
              0.2222222222222222,
              "#7201a8"
             ],
             [
              0.3333333333333333,
              "#9c179e"
             ],
             [
              0.4444444444444444,
              "#bd3786"
             ],
             [
              0.5555555555555556,
              "#d8576b"
             ],
             [
              0.6666666666666666,
              "#ed7953"
             ],
             [
              0.7777777777777778,
              "#fb9f3a"
             ],
             [
              0.8888888888888888,
              "#fdca26"
             ],
             [
              1,
              "#f0f921"
             ]
            ],
            "type": "histogram2d"
           }
          ],
          "histogram2dcontour": [
           {
            "colorbar": {
             "outlinewidth": 0,
             "ticks": ""
            },
            "colorscale": [
             [
              0,
              "#0d0887"
             ],
             [
              0.1111111111111111,
              "#46039f"
             ],
             [
              0.2222222222222222,
              "#7201a8"
             ],
             [
              0.3333333333333333,
              "#9c179e"
             ],
             [
              0.4444444444444444,
              "#bd3786"
             ],
             [
              0.5555555555555556,
              "#d8576b"
             ],
             [
              0.6666666666666666,
              "#ed7953"
             ],
             [
              0.7777777777777778,
              "#fb9f3a"
             ],
             [
              0.8888888888888888,
              "#fdca26"
             ],
             [
              1,
              "#f0f921"
             ]
            ],
            "type": "histogram2dcontour"
           }
          ],
          "mesh3d": [
           {
            "colorbar": {
             "outlinewidth": 0,
             "ticks": ""
            },
            "type": "mesh3d"
           }
          ],
          "parcoords": [
           {
            "line": {
             "colorbar": {
              "outlinewidth": 0,
              "ticks": ""
             }
            },
            "type": "parcoords"
           }
          ],
          "pie": [
           {
            "automargin": true,
            "type": "pie"
           }
          ],
          "scatter": [
           {
            "fillpattern": {
             "fillmode": "overlay",
             "size": 10,
             "solidity": 0.2
            },
            "type": "scatter"
           }
          ],
          "scatter3d": [
           {
            "line": {
             "colorbar": {
              "outlinewidth": 0,
              "ticks": ""
             }
            },
            "marker": {
             "colorbar": {
              "outlinewidth": 0,
              "ticks": ""
             }
            },
            "type": "scatter3d"
           }
          ],
          "scattercarpet": [
           {
            "marker": {
             "colorbar": {
              "outlinewidth": 0,
              "ticks": ""
             }
            },
            "type": "scattercarpet"
           }
          ],
          "scattergeo": [
           {
            "marker": {
             "colorbar": {
              "outlinewidth": 0,
              "ticks": ""
             }
            },
            "type": "scattergeo"
           }
          ],
          "scattergl": [
           {
            "marker": {
             "colorbar": {
              "outlinewidth": 0,
              "ticks": ""
             }
            },
            "type": "scattergl"
           }
          ],
          "scattermapbox": [
           {
            "marker": {
             "colorbar": {
              "outlinewidth": 0,
              "ticks": ""
             }
            },
            "type": "scattermapbox"
           }
          ],
          "scatterpolar": [
           {
            "marker": {
             "colorbar": {
              "outlinewidth": 0,
              "ticks": ""
             }
            },
            "type": "scatterpolar"
           }
          ],
          "scatterpolargl": [
           {
            "marker": {
             "colorbar": {
              "outlinewidth": 0,
              "ticks": ""
             }
            },
            "type": "scatterpolargl"
           }
          ],
          "scatterternary": [
           {
            "marker": {
             "colorbar": {
              "outlinewidth": 0,
              "ticks": ""
             }
            },
            "type": "scatterternary"
           }
          ],
          "surface": [
           {
            "colorbar": {
             "outlinewidth": 0,
             "ticks": ""
            },
            "colorscale": [
             [
              0,
              "#0d0887"
             ],
             [
              0.1111111111111111,
              "#46039f"
             ],
             [
              0.2222222222222222,
              "#7201a8"
             ],
             [
              0.3333333333333333,
              "#9c179e"
             ],
             [
              0.4444444444444444,
              "#bd3786"
             ],
             [
              0.5555555555555556,
              "#d8576b"
             ],
             [
              0.6666666666666666,
              "#ed7953"
             ],
             [
              0.7777777777777778,
              "#fb9f3a"
             ],
             [
              0.8888888888888888,
              "#fdca26"
             ],
             [
              1,
              "#f0f921"
             ]
            ],
            "type": "surface"
           }
          ],
          "table": [
           {
            "cells": {
             "fill": {
              "color": "#EBF0F8"
             },
             "line": {
              "color": "white"
             }
            },
            "header": {
             "fill": {
              "color": "#C8D4E3"
             },
             "line": {
              "color": "white"
             }
            },
            "type": "table"
           }
          ]
         },
         "layout": {
          "annotationdefaults": {
           "arrowcolor": "#2a3f5f",
           "arrowhead": 0,
           "arrowwidth": 1
          },
          "autotypenumbers": "strict",
          "coloraxis": {
           "colorbar": {
            "outlinewidth": 0,
            "ticks": ""
           }
          },
          "colorscale": {
           "diverging": [
            [
             0,
             "#8e0152"
            ],
            [
             0.1,
             "#c51b7d"
            ],
            [
             0.2,
             "#de77ae"
            ],
            [
             0.3,
             "#f1b6da"
            ],
            [
             0.4,
             "#fde0ef"
            ],
            [
             0.5,
             "#f7f7f7"
            ],
            [
             0.6,
             "#e6f5d0"
            ],
            [
             0.7,
             "#b8e186"
            ],
            [
             0.8,
             "#7fbc41"
            ],
            [
             0.9,
             "#4d9221"
            ],
            [
             1,
             "#276419"
            ]
           ],
           "sequential": [
            [
             0,
             "#0d0887"
            ],
            [
             0.1111111111111111,
             "#46039f"
            ],
            [
             0.2222222222222222,
             "#7201a8"
            ],
            [
             0.3333333333333333,
             "#9c179e"
            ],
            [
             0.4444444444444444,
             "#bd3786"
            ],
            [
             0.5555555555555556,
             "#d8576b"
            ],
            [
             0.6666666666666666,
             "#ed7953"
            ],
            [
             0.7777777777777778,
             "#fb9f3a"
            ],
            [
             0.8888888888888888,
             "#fdca26"
            ],
            [
             1,
             "#f0f921"
            ]
           ],
           "sequentialminus": [
            [
             0,
             "#0d0887"
            ],
            [
             0.1111111111111111,
             "#46039f"
            ],
            [
             0.2222222222222222,
             "#7201a8"
            ],
            [
             0.3333333333333333,
             "#9c179e"
            ],
            [
             0.4444444444444444,
             "#bd3786"
            ],
            [
             0.5555555555555556,
             "#d8576b"
            ],
            [
             0.6666666666666666,
             "#ed7953"
            ],
            [
             0.7777777777777778,
             "#fb9f3a"
            ],
            [
             0.8888888888888888,
             "#fdca26"
            ],
            [
             1,
             "#f0f921"
            ]
           ]
          },
          "colorway": [
           "#636efa",
           "#EF553B",
           "#00cc96",
           "#ab63fa",
           "#FFA15A",
           "#19d3f3",
           "#FF6692",
           "#B6E880",
           "#FF97FF",
           "#FECB52"
          ],
          "font": {
           "color": "#2a3f5f"
          },
          "geo": {
           "bgcolor": "white",
           "lakecolor": "white",
           "landcolor": "#E5ECF6",
           "showlakes": true,
           "showland": true,
           "subunitcolor": "white"
          },
          "hoverlabel": {
           "align": "left"
          },
          "hovermode": "closest",
          "mapbox": {
           "style": "light"
          },
          "paper_bgcolor": "white",
          "plot_bgcolor": "#E5ECF6",
          "polar": {
           "angularaxis": {
            "gridcolor": "white",
            "linecolor": "white",
            "ticks": ""
           },
           "bgcolor": "#E5ECF6",
           "radialaxis": {
            "gridcolor": "white",
            "linecolor": "white",
            "ticks": ""
           }
          },
          "scene": {
           "xaxis": {
            "backgroundcolor": "#E5ECF6",
            "gridcolor": "white",
            "gridwidth": 2,
            "linecolor": "white",
            "showbackground": true,
            "ticks": "",
            "zerolinecolor": "white"
           },
           "yaxis": {
            "backgroundcolor": "#E5ECF6",
            "gridcolor": "white",
            "gridwidth": 2,
            "linecolor": "white",
            "showbackground": true,
            "ticks": "",
            "zerolinecolor": "white"
           },
           "zaxis": {
            "backgroundcolor": "#E5ECF6",
            "gridcolor": "white",
            "gridwidth": 2,
            "linecolor": "white",
            "showbackground": true,
            "ticks": "",
            "zerolinecolor": "white"
           }
          },
          "shapedefaults": {
           "line": {
            "color": "#2a3f5f"
           }
          },
          "ternary": {
           "aaxis": {
            "gridcolor": "white",
            "linecolor": "white",
            "ticks": ""
           },
           "baxis": {
            "gridcolor": "white",
            "linecolor": "white",
            "ticks": ""
           },
           "bgcolor": "#E5ECF6",
           "caxis": {
            "gridcolor": "white",
            "linecolor": "white",
            "ticks": ""
           }
          },
          "title": {
           "x": 0.05
          },
          "xaxis": {
           "automargin": true,
           "gridcolor": "white",
           "linecolor": "white",
           "ticks": "",
           "title": {
            "standoff": 15
           },
           "zerolinecolor": "white",
           "zerolinewidth": 2
          },
          "yaxis": {
           "automargin": true,
           "gridcolor": "white",
           "linecolor": "white",
           "ticks": "",
           "title": {
            "standoff": 15
           },
           "zerolinecolor": "white",
           "zerolinewidth": 2
          }
         }
        },
        "title": {
         "text": "카테고리별 조회수"
        },
        "xaxis": {
         "anchor": "y",
         "categoryarray": [
          "",
          "[BJ/인물/연예인]",
          "[IT/기술/컴퓨터]",
          "[TV/방송]",
          "[게임]",
          "[교육/강의]",
          "[국내/해외/여행]",
          "[뉴스/정치/사회]",
          "[미분류]",
          "[스포츠/운동]",
          "[애완/반려동물]",
          "[영화/만화/애니]",
          "[음식/요리/레시피]",
          "[음악/댄스/가수]",
          "[자동차]",
          "[주식/경제/부동산]",
          "[취미/라이프]",
          "[키즈/어린이]",
          "[패션/미용]",
          "[해외]",
          "[회사/오피셜]"
         ],
         "categoryorder": "array",
         "domain": [
          0,
          1
         ],
         "tickangle": -45,
         "title": {
          "text": "카테고리"
         }
        },
        "yaxis": {
         "anchor": "x",
         "domain": [
          0,
          1
         ],
         "title": {
          "text": "조회수"
         }
        }
       }
      }
     },
     "metadata": {},
     "output_type": "display_data"
    }
   ],
   "source": [
    "# plotly 활용 버블 차트\n",
    "fig = px.scatter(category_view_count, x='카테고리', y='조회수',\n",
    "                 size='조회수', color='카테고리', hover_name='카테고리',\n",
    "                 title='카테고리별 조회수',\n",
    "                 size_max=60)\n",
    "fig.update_layout(xaxis=dict(tickangle=-45))\n",
    "fig.show()"
   ]
  },
  {
   "cell_type": "markdown",
   "metadata": {},
   "source": []
  }
 ],
 "metadata": {
  "kernelspec": {
   "display_name": "base",
   "language": "python",
   "name": "python3"
  },
  "language_info": {
   "codemirror_mode": {
    "name": "ipython",
    "version": 3
   },
   "file_extension": ".py",
   "mimetype": "text/x-python",
   "name": "python",
   "nbconvert_exporter": "python",
   "pygments_lexer": "ipython3",
   "version": "3.12.7"
  }
 },
 "nbformat": 4,
 "nbformat_minor": 2
}
