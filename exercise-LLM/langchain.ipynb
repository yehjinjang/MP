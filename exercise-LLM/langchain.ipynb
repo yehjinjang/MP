{
 "cells": [
  {
   "cell_type": "code",
   "execution_count": 1,
   "metadata": {},
   "outputs": [],
   "source": [
    "# ! pip uninstall -y pydantic"
   ]
  },
  {
   "cell_type": "code",
   "execution_count": 2,
   "metadata": {},
   "outputs": [],
   "source": [
    "# ! pip uninstall -y langchain langchain-openai"
   ]
  },
  {
   "cell_type": "code",
   "execution_count": 3,
   "metadata": {},
   "outputs": [],
   "source": [
    "# ! pip install pydantic==1.10.13 langchain langchain-openai openai"
   ]
  },
  {
   "cell_type": "markdown",
   "metadata": {},
   "source": [
    "### LLMS "
   ]
  },
  {
   "cell_type": "code",
   "execution_count": 7,
   "metadata": {},
   "outputs": [
    {
     "name": "stdout",
     "output_type": "stream",
     "text": [
      "content='안녕하세요! 저는 인공지능 언어모델 GPT-3입니다. 자연어 처리 및 대화 시스템에 특화된 기술을 가지고 있어 다양한 주제에 대해 대화를 나눌 수 있습니다. 질문이나 이야기를 듣고 적절한 답변을 제공하는 것을 즐기며, 사용자들과의 소통을 통해 계속 발전하고 있습니다. 함께 대화를 나누어 보시겠어요?' additional_kwargs={'refusal': None} response_metadata={'token_usage': {'completion_tokens': 153, 'prompt_tokens': 15, 'total_tokens': 168, 'completion_tokens_details': {'accepted_prediction_tokens': 0, 'audio_tokens': 0, 'reasoning_tokens': 0, 'rejected_prediction_tokens': 0}, 'prompt_tokens_details': {'audio_tokens': 0, 'cached_tokens': 0}}, 'model_name': 'gpt-3.5-turbo-0125', 'system_fingerprint': None, 'finish_reason': 'stop', 'logprobs': None} id='run-245bbbea-7ac9-47ab-bf3b-04471efdd7b3-0' usage_metadata={'input_tokens': 15, 'output_tokens': 153, 'total_tokens': 168}\n"
     ]
    }
   ],
   "source": [
    "from langchain_openai import ChatOpenAI\n",
    "from dotenv import load_dotenv\n",
    "import os\n",
    "\n",
    "load_dotenv()\n",
    "\n",
    "llm = ChatOpenAI(model_name=\"gpt-3.5-turbo\",\n",
    "                 temperature= 0, \n",
    "                 openai_api_key = os.getenv(\"KEY\")\n",
    "                )\n",
    "result = llm.invoke(\"자기소개를 해주세요.\")\n",
    "print(result)"
   ]
  },
  {
   "cell_type": "markdown",
   "metadata": {},
   "source": [
    "### Chat models"
   ]
  },
  {
   "cell_type": "code",
   "execution_count": null,
   "metadata": {},
   "outputs": [
    {
     "name": "stdout",
     "output_type": "stream",
     "text": [
      "네, 장예진이라고 하셨죠. 어떻게 도와드릴까요?\n"
     ]
    }
   ],
   "source": [
    "from langchain_openai import ChatOpenAI\n",
    "from langchain.schema import AIMessage, HumanMessage, SystemMessage\n",
    "\n",
    "chat = ChatOpenAI(model_name=\"gpt-3.5-turbo\", \n",
    "                  temperature= 0,\n",
    "                  openai_api_key = os.getenv(\"KEY\")\n",
    "\n",
    "                  )\n",
    "messages = [\n",
    "    SystemMessage(content=\"You are a helpful assistant.\"),\n",
    "    HumanMessage(content=\"안녕? 내이름은 장예진\"),\n",
    "    AIMessage(content=\"안녕? 장예진. 나는 도움이 필요하면 도와줄 수 있어.\"),\n",
    "    HumanMessage(content=\"제이름을 아세요?\"),\n",
    "]\n",
    "\n",
    "result = chat.invoke(messages)\n",
    "print(result.content)"
   ]
  },
  {
   "cell_type": "markdown",
   "metadata": {},
   "source": [
    "### Callback을 이용한 스트리밍"
   ]
  },
  {
   "cell_type": "code",
   "execution_count": 13,
   "metadata": {},
   "outputs": [],
   "source": [
    "from langchain_core.callbacks import StdOutCallbackHandler\n",
    "from langchain_openai import ChatOpenAI\n",
    "from langchain.schema import HumanMessage\n",
    "\n",
    "\n",
    "chat = ChatOpenAI(model_name=\"gpt-3.5-turbo\", \n",
    "                  temperature= 0,\n",
    "                  streaming = True,\n",
    "                  callbacks = [StdOutCallbackHandler()],\n",
    "                openai_api_key = os.getenv(\"KEY\")                  \n",
    "                  )\n",
    "\n",
    "messages = [HumanMessage(content=\"please introduce yourself\")]\n",
    "result = chat.invoke(messages)\n"
   ]
  },
  {
   "cell_type": "markdown",
   "metadata": {},
   "source": [
    "### Prompts"
   ]
  },
  {
   "cell_type": "code",
   "execution_count": 16,
   "metadata": {},
   "outputs": [
    {
     "name": "stdout",
     "output_type": "stream",
     "text": [
      "\n",
      "다음 요리의 레시피를 생각해주세요. \n",
      "요리: 카레\n",
      "\n"
     ]
    }
   ],
   "source": [
    "from langchain_core.prompts import PromptTemplate\n",
    "\n",
    "template = \"\"\"\n",
    "다음 요리의 레시피를 생각해주세요. \n",
    "요리: {dish}\n",
    "\"\"\"\n",
    "\n",
    "prompt = PromptTemplate(\n",
    "    input_variablees = [\"dish\"],\n",
    "    template = template,\n",
    "    openai_api_key = os.getenv(\"KEY\")                  \n",
    "\n",
    ")\n",
    "\n",
    "result= prompt.format(dish=\"카레\")\n",
    "print(result)"
   ]
  },
  {
   "cell_type": "markdown",
   "metadata": {},
   "source": [
    "### ChatPromptTemplate"
   ]
  },
  {
   "cell_type": "code",
   "execution_count": 19,
   "metadata": {},
   "outputs": [
    {
     "name": "stdout",
     "output_type": "stream",
     "text": [
      "System: 당신은 한국 요리 전문가 입니다.\n",
      "Human: 안녕하세요? 저는 장예진 입니다.\n",
      "Human: 다음 요리의 레시피를 생각해주세요. 요리:김치찌개\n"
     ]
    }
   ],
   "source": [
    "from langchain_core.prompts import (\n",
    "    ChatPromptTemplate,\n",
    "    PromptTemplate,\n",
    "    SystemMessagePromptTemplate,\n",
    "    HumanMessagePromptTemplate,\n",
    ")\n",
    "\n",
    "from langchain.schema import HumanMessage, SystemMessage\n",
    "\n",
    "chat_prompt = ChatPromptTemplate.from_messages([\n",
    "    SystemMessagePromptTemplate.from_template(\"당신은 {country} 요리 전문가 입니다.\"),\n",
    "    HumanMessagePromptTemplate.from_template(\"안녕하세요? 저는 {name} 입니다.\"),\n",
    "    HumanMessagePromptTemplate.from_template(\"다음 요리의 레시피를 생각해주세요. 요리:{dish}\"),])\n",
    "\n",
    "messages = chat_prompt.format(\n",
    "    country=\"한국\",\n",
    "    name=\"장예진\",\n",
    "    dish=\"김치찌개\",\n",
    ")\n",
    "print(messages)"
   ]
  },
  {
   "cell_type": "code",
   "execution_count": 21,
   "metadata": {},
   "outputs": [
    {
     "name": "stdout",
     "output_type": "stream",
     "text": [
      "System: 안녕하세요, 장예진님! 김치찌개는 한국인들이 사랑하는 전통 음식 중 하나입니다. 김치찌개를 만들기 위해 필요한 재료는 다음과 같습니다:\n",
      "\n",
      "- 배추김치\n",
      "- 돼지고기 (또는 소고기)\n",
      "- 두부\n",
      "- 대파\n",
      "- 양파\n",
      "- 고추\n",
      "- 된장\n",
      "- 고춧가루\n",
      "- 다시마 (혹은 멸치 다시마 육수)\n",
      "\n",
      "1. 먼저 김치찌개를 끓일 냄비에 다시마를 넣고 물을 붓고 끓입니다.\n",
      "2. 돼지고기나 소고기를 넣고 끓입니다.\n",
      "3. 양파, 대파, 고추를 넣고 끓입니다.\n",
      "4. 김치와 된장, 고춧가루를 넣고 끓입니다.\n",
      "5. 두부를 넣고 끓입니다.\n",
      "6. 맛있는 김치찌개가 완성되었습니다!\n",
      "\n",
      "이렇게 간단하게 김치찌개를 만들 수 있습니다. 맛있게 드세요!\n"
     ]
    }
   ],
   "source": [
    "from langchain_openai import ChatOpenAI\n",
    "\n",
    "chat = ChatOpenAI(model_name=\"gpt-3.5-turbo\", \n",
    "                  temperature= 0,\n",
    "                openai_api_key = os.getenv(\"KEY\")                  \n",
    "\n",
    "                  )\n",
    "result = chat.invoke(messages)\n",
    "print(result.content)"
   ]
  },
  {
   "cell_type": "code",
   "execution_count": null,
   "metadata": {},
   "outputs": [],
   "source": []
  }
 ],
 "metadata": {
  "kernelspec": {
   "display_name": "base",
   "language": "python",
   "name": "python3"
  },
  "language_info": {
   "codemirror_mode": {
    "name": "ipython",
    "version": 3
   },
   "file_extension": ".py",
   "mimetype": "text/x-python",
   "name": "python",
   "nbconvert_exporter": "python",
   "pygments_lexer": "ipython3",
   "version": "3.12.3"
  }
 },
 "nbformat": 4,
 "nbformat_minor": 2
}
